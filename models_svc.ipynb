{
 "cells": [
  {
   "cell_type": "markdown",
   "id": "50176ec7",
   "metadata": {},
   "source": [
    "## Importing the Libraries"
   ]
  },
  {
   "cell_type": "code",
   "execution_count": null,
   "id": "1ab3db43",
   "metadata": {},
   "outputs": [],
   "source": [
    "import pandas as pd\n",
    "import numpy as np\n",
    "\n",
    "from sklearn.model_selection import train_test_split\n",
    "from sklearn.linear_model import LogisticRegression\n",
    "from sklearn.preprocessing import StandardScaler\n",
    "from sklearn.svm import SVC\n",
    "from sklearn.tree import DecisionTreeClassifier\n",
    "from sklearn.ensemble import RandomForestClassifier\n",
    "from xgboost import XGBClassifier\n",
    "from sklearn.neighbors import KNeighborsClassifier\n",
    "from sklearn.naive_bayes import GaussianNB\n",
    "from sklearn.metrics import accuracy_score"
   ]
  },
  {
   "cell_type": "markdown",
   "id": "1fa56f6f",
   "metadata": {},
   "source": [
    "## Importing the Dataset"
   ]
  },
  {
   "cell_type": "code",
   "execution_count": null,
   "id": "2fcd147c",
   "metadata": {},
   "outputs": [],
   "source": [
    "df = pd.read_csv('avalanche_data_clean.csv')"
   ]
  },
  {
   "cell_type": "code",
   "execution_count": null,
   "id": "11b80ee0",
   "metadata": {},
   "outputs": [],
   "source": [
    "df.head()"
   ]
  },
  {
   "cell_type": "code",
   "execution_count": null,
   "id": "5441f40d",
   "metadata": {},
   "outputs": [],
   "source": [
    "df.shape"
   ]
  },
  {
   "cell_type": "markdown",
   "id": "28b87c5f",
   "metadata": {},
   "source": [
    "## Splitting the features and label from the dataset"
   ]
  },
  {
   "cell_type": "code",
   "execution_count": null,
   "id": "ee7041ff",
   "metadata": {},
   "outputs": [],
   "source": [
    "X = df.drop(columns=['risk_index'])\n",
    "y = df['risk_index']"
   ]
  },
  {
   "cell_type": "markdown",
   "id": "e4180673",
   "metadata": {},
   "source": [
    "## Splitting the dataset into training set and test set"
   ]
  },
  {
   "cell_type": "code",
   "execution_count": null,
   "id": "145536ef",
   "metadata": {},
   "outputs": [],
   "source": [
    "X_train, X_test, y_train, y_test = train_test_split(X, y, test_size=0.2, stratify=y, random_state=0)"
   ]
  },
  {
   "cell_type": "markdown",
   "id": "713c45d0",
   "metadata": {},
   "source": [
    "## Feature Scaling"
   ]
  },
  {
   "cell_type": "code",
   "execution_count": null,
   "id": "75c4452c",
   "metadata": {},
   "outputs": [],
   "source": [
    "scaler = StandardScaler()\n",
    "X_train_scaled = scaler.fit_transform(X_train)\n",
    "X_test_scaled = scaler.transform(X_test)"
   ]
  },
  {
   "cell_type": "markdown",
   "id": "d79cdea6",
   "metadata": {},
   "source": [
    "## GridSearch on Logistic Regression"
   ]
  },
  {
   "cell_type": "code",
   "execution_count": null,
   "id": "bad560bc",
   "metadata": {},
   "outputs": [],
   "source": [
    "classifier = LogisticRegression()\n",
    "\n",
    "param_grid = {'C': [0.1, 1.0, 10.0], 'solver': ['newton-cg', 'lbfgs', 'liblinear', 'sag', 'saga']}\n",
    "\n",
    "grid_search = GridSearchCV(classifier, param_grid=param_grid, cv=5, n_jobs=-1)\n",
    "grid_search.fit(X_train_scaled, y_train)\n",
    "\n",
    "best_classifier = grid_search.best_estimator_\n",
    "y_pred = best_classifier.predict(X_test_scaled)\n",
    "accuracy = accuracy_score(y_test, y_pred)\n",
    "\n",
    "print(\"Best Hyperparameters:\", grid_search.best_params_)\n",
    "print(\"Accuracy on Test Data:\", accuracy)"
   ]
  },
  {
   "cell_type": "markdown",
   "id": "05097013",
   "metadata": {},
   "source": [
    "## GridSearch on Decision Tree Classifier"
   ]
  },
  {
   "cell_type": "code",
   "execution_count": null,
   "id": "5677f3ac",
   "metadata": {},
   "outputs": [],
   "source": [
    "classifier = DecisionTreeClassifier()\n",
    "\n",
    "param_grid = {'max_depth': [None, 5, 10, 15, 20],\n",
    "              'min_samples_split': [2, 5, 10],\n",
    "              'min_samples_leaf': [1, 2, 4]}\n",
    "\n",
    "grid_search = GridSearchCV(classifier, param_grid=param_grid, cv=5, n_jobs=-1)\n",
    "grid_search.fit(X_train, y_train)\n",
    "\n",
    "best_classifier = grid_search.best_estimator_\n",
    "y_pred = best_classifier.predict(X_test)\n",
    "accuracy = accuracy_score(y_test, y_pred)\n",
    "\n",
    "print(\"Best Hyperparameters:\", grid_search.best_params_)\n",
    "print(\"Accuracy on Test Data:\", accuracy)"
   ]
  },
  {
   "cell_type": "markdown",
   "id": "77dc56da",
   "metadata": {},
   "source": [
    "## GridSearch on Random Forest Classifier"
   ]
  },
  {
   "cell_type": "code",
   "execution_count": null,
   "id": "a9ae7bca",
   "metadata": {},
   "outputs": [],
   "source": [
    "classifier = RandomForestClassifier()\n",
    "\n",
    "param_grid = {'n_estimators': [10, 50, 100, 200],\n",
    "              'max_depth': [None, 10, 20, 30],\n",
    "              'min_samples_split': [2, 5, 10],\n",
    "              'min_samples_leaf': [1, 2, 4],\n",
    "              'bootstrap': [True, False]}\n",
    "\n",
    "grid_search = GridSearchCV(classifier, param_grid=param_grid, cv=5, n_jobs=-1)\n",
    "grid_search.fit(X_train, y_train)\n",
    "\n",
    "best_classifier = grid_search.best_estimator_\n",
    "y_pred = best_classifier.predict(X_test)\n",
    "accuracy = accuracy_score(y_test, y_pred)\n",
    "\n",
    "print(\"Best Hyperparameters:\", grid_search.best_params_)\n",
    "print(\"Accuracy on Test Data:\", accuracy)"
   ]
  },
  {
   "cell_type": "markdown",
   "id": "cbcf779b",
   "metadata": {},
   "source": [
    "## GridSearch on SVC"
   ]
  },
  {
   "cell_type": "code",
   "execution_count": null,
   "id": "9061bc4c",
   "metadata": {},
   "outputs": [],
   "source": [
    "classifier = SVC()\n",
    "\n",
    "# Define the hyperparameter grid for the classifier\n",
    "param_grid = {'C': [0.1, 1.0, 10.0],\n",
    "              'kernel': ['linear', 'rbf', 'poly', 'sigmoid'],\n",
    "              'gamma': ['scale', 'auto']}\n",
    "\n",
    "# Perform grid search with cross-validation\n",
    "grid_search = GridSearchCV(classifier, param_grid=param_grid, cv=5, n_jobs=-1)\n",
    "grid_search.fit(X_train, y_train)\n",
    "\n",
    "# Evaluate the best model on the test data\n",
    "best_classifier = grid_search.best_estimator_\n",
    "y_pred = best_classifier.predict(X_test)\n",
    "accuracy = accuracy_score(y_test, y_pred)\n",
    "\n",
    "# Display the best hyperparameters and accuracy\n",
    "print(\"Best Hyperparameters:\", grid_search.best_params_)\n",
    "print(\"Accuracy on Test Data:\", accuracy)"
   ]
  }
 ],
 "metadata": {
  "kernelspec": {
   "display_name": "Python 3 (ipykernel)",
   "language": "python",
   "name": "python3"
  },
  "language_info": {
   "codemirror_mode": {
    "name": "ipython",
    "version": 3
   },
   "file_extension": ".py",
   "mimetype": "text/x-python",
   "name": "python",
   "nbconvert_exporter": "python",
   "pygments_lexer": "ipython3",
   "version": "3.9.13"
  }
 },
 "nbformat": 4,
 "nbformat_minor": 5
}
