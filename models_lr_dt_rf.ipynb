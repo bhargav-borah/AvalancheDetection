{
 "cells": [
  {
   "cell_type": "markdown",
   "id": "50176ec7",
   "metadata": {},
   "source": [
    "## Importing the Libraries"
   ]
  },
  {
   "cell_type": "code",
   "execution_count": 40,
   "id": "1ab3db43",
   "metadata": {},
   "outputs": [],
   "source": [
    "import pandas as pd\n",
    "import numpy as np\n",
    "\n",
    "from sklearn.model_selection import train_test_split\n",
    "from sklearn.linear_model import LogisticRegression\n",
    "from sklearn.preprocessing import StandardScaler\n",
    "from sklearn.svm import SVC\n",
    "from sklearn.tree import DecisionTreeClassifier\n",
    "from sklearn.ensemble import RandomForestClassifier\n",
    "from xgboost import XGBClassifier\n",
    "from sklearn.neighbors import KNeighborsClassifier\n",
    "from sklearn.naive_bayes import GaussianNB\n",
    "from sklearn.metrics import accuracy_score"
   ]
  },
  {
   "cell_type": "markdown",
   "id": "1fa56f6f",
   "metadata": {},
   "source": [
    "## Importing the Dataset"
   ]
  },
  {
   "cell_type": "code",
   "execution_count": 41,
   "id": "2fcd147c",
   "metadata": {},
   "outputs": [],
   "source": [
    "df = pd.read_csv('avalanche_data_clean.csv')"
   ]
  },
  {
   "cell_type": "code",
   "execution_count": 42,
   "id": "11b80ee0",
   "metadata": {},
   "outputs": [
    {
     "data": {
      "text/html": [
       "<div>\n",
       "<style scoped>\n",
       "    .dataframe tbody tr th:only-of-type {\n",
       "        vertical-align: middle;\n",
       "    }\n",
       "\n",
       "    .dataframe tbody tr th {\n",
       "        vertical-align: top;\n",
       "    }\n",
       "\n",
       "    .dataframe thead th {\n",
       "        text-align: right;\n",
       "    }\n",
       "</style>\n",
       "<table border=\"1\" class=\"dataframe\">\n",
       "  <thead>\n",
       "    <tr style=\"text-align: right;\">\n",
       "      <th></th>\n",
       "      <th>snow_type_dry</th>\n",
       "      <th>snow_type_unknown</th>\n",
       "      <th>snow_type_wet</th>\n",
       "      <th>trigger_type_explosive</th>\n",
       "      <th>trigger_type_natural</th>\n",
       "      <th>trigger_type_unknown</th>\n",
       "      <th>max_elevation</th>\n",
       "      <th>min_elevation</th>\n",
       "      <th>aspect_degrees</th>\n",
       "      <th>length</th>\n",
       "      <th>width</th>\n",
       "      <th>perimeter</th>\n",
       "      <th>area</th>\n",
       "      <th>aval_size_class</th>\n",
       "      <th>weight_AAI</th>\n",
       "      <th>risk_index</th>\n",
       "    </tr>\n",
       "  </thead>\n",
       "  <tbody>\n",
       "    <tr>\n",
       "      <th>0</th>\n",
       "      <td>1</td>\n",
       "      <td>0</td>\n",
       "      <td>0</td>\n",
       "      <td>0</td>\n",
       "      <td>1</td>\n",
       "      <td>0</td>\n",
       "      <td>2562.0</td>\n",
       "      <td>2484.0</td>\n",
       "      <td>42.0</td>\n",
       "      <td>101.0</td>\n",
       "      <td>123.0</td>\n",
       "      <td>355.0</td>\n",
       "      <td>8762.0</td>\n",
       "      <td>2</td>\n",
       "      <td>2</td>\n",
       "      <td>2</td>\n",
       "    </tr>\n",
       "    <tr>\n",
       "      <th>1</th>\n",
       "      <td>1</td>\n",
       "      <td>0</td>\n",
       "      <td>0</td>\n",
       "      <td>0</td>\n",
       "      <td>1</td>\n",
       "      <td>0</td>\n",
       "      <td>2494.0</td>\n",
       "      <td>2356.0</td>\n",
       "      <td>21.0</td>\n",
       "      <td>127.0</td>\n",
       "      <td>351.0</td>\n",
       "      <td>834.0</td>\n",
       "      <td>30522.0</td>\n",
       "      <td>3</td>\n",
       "      <td>3</td>\n",
       "      <td>2</td>\n",
       "    </tr>\n",
       "    <tr>\n",
       "      <th>2</th>\n",
       "      <td>1</td>\n",
       "      <td>0</td>\n",
       "      <td>0</td>\n",
       "      <td>0</td>\n",
       "      <td>0</td>\n",
       "      <td>0</td>\n",
       "      <td>2115.0</td>\n",
       "      <td>2017.0</td>\n",
       "      <td>200.0</td>\n",
       "      <td>166.0</td>\n",
       "      <td>85.0</td>\n",
       "      <td>454.0</td>\n",
       "      <td>7837.0</td>\n",
       "      <td>2</td>\n",
       "      <td>2</td>\n",
       "      <td>2</td>\n",
       "    </tr>\n",
       "    <tr>\n",
       "      <th>3</th>\n",
       "      <td>1</td>\n",
       "      <td>0</td>\n",
       "      <td>0</td>\n",
       "      <td>0</td>\n",
       "      <td>1</td>\n",
       "      <td>0</td>\n",
       "      <td>2085.0</td>\n",
       "      <td>1986.0</td>\n",
       "      <td>42.0</td>\n",
       "      <td>128.0</td>\n",
       "      <td>18.0</td>\n",
       "      <td>265.0</td>\n",
       "      <td>1522.0</td>\n",
       "      <td>2</td>\n",
       "      <td>2</td>\n",
       "      <td>2</td>\n",
       "    </tr>\n",
       "    <tr>\n",
       "      <th>4</th>\n",
       "      <td>1</td>\n",
       "      <td>0</td>\n",
       "      <td>0</td>\n",
       "      <td>0</td>\n",
       "      <td>1</td>\n",
       "      <td>0</td>\n",
       "      <td>2605.0</td>\n",
       "      <td>2529.0</td>\n",
       "      <td>240.0</td>\n",
       "      <td>127.0</td>\n",
       "      <td>63.0</td>\n",
       "      <td>324.0</td>\n",
       "      <td>5929.0</td>\n",
       "      <td>2</td>\n",
       "      <td>2</td>\n",
       "      <td>2</td>\n",
       "    </tr>\n",
       "  </tbody>\n",
       "</table>\n",
       "</div>"
      ],
      "text/plain": [
       "   snow_type_dry  snow_type_unknown  snow_type_wet  trigger_type_explosive  \\\n",
       "0              1                  0              0                       0   \n",
       "1              1                  0              0                       0   \n",
       "2              1                  0              0                       0   \n",
       "3              1                  0              0                       0   \n",
       "4              1                  0              0                       0   \n",
       "\n",
       "   trigger_type_natural  trigger_type_unknown  max_elevation  min_elevation  \\\n",
       "0                     1                     0         2562.0         2484.0   \n",
       "1                     1                     0         2494.0         2356.0   \n",
       "2                     0                     0         2115.0         2017.0   \n",
       "3                     1                     0         2085.0         1986.0   \n",
       "4                     1                     0         2605.0         2529.0   \n",
       "\n",
       "   aspect_degrees  length  width  perimeter     area  aval_size_class  \\\n",
       "0            42.0   101.0  123.0      355.0   8762.0                2   \n",
       "1            21.0   127.0  351.0      834.0  30522.0                3   \n",
       "2           200.0   166.0   85.0      454.0   7837.0                2   \n",
       "3            42.0   128.0   18.0      265.0   1522.0                2   \n",
       "4           240.0   127.0   63.0      324.0   5929.0                2   \n",
       "\n",
       "   weight_AAI  risk_index  \n",
       "0           2           2  \n",
       "1           3           2  \n",
       "2           2           2  \n",
       "3           2           2  \n",
       "4           2           2  "
      ]
     },
     "execution_count": 42,
     "metadata": {},
     "output_type": "execute_result"
    }
   ],
   "source": [
    "df.head()"
   ]
  },
  {
   "cell_type": "code",
   "execution_count": 43,
   "id": "5441f40d",
   "metadata": {},
   "outputs": [
    {
     "data": {
      "text/plain": [
       "(13608, 16)"
      ]
     },
     "execution_count": 43,
     "metadata": {},
     "output_type": "execute_result"
    }
   ],
   "source": [
    "df.shape"
   ]
  },
  {
   "cell_type": "markdown",
   "id": "28b87c5f",
   "metadata": {},
   "source": [
    "## Splitting the features and label from the dataset"
   ]
  },
  {
   "cell_type": "code",
   "execution_count": 48,
   "id": "ee7041ff",
   "metadata": {},
   "outputs": [],
   "source": [
    "X = df.drop(columns=['risk_index'])\n",
    "y = df['risk_index']"
   ]
  },
  {
   "cell_type": "markdown",
   "id": "e4180673",
   "metadata": {},
   "source": [
    "## Splitting the dataset into training set and test set"
   ]
  },
  {
   "cell_type": "code",
   "execution_count": 49,
   "id": "145536ef",
   "metadata": {},
   "outputs": [],
   "source": [
    "X_train, X_test, y_train, y_test = train_test_split(X, y, test_size=0.2, stratify=y, random_state=0)"
   ]
  },
  {
   "cell_type": "markdown",
   "id": "713c45d0",
   "metadata": {},
   "source": [
    "## Feature Scaling"
   ]
  },
  {
   "cell_type": "code",
   "execution_count": 50,
   "id": "75c4452c",
   "metadata": {},
   "outputs": [],
   "source": [
    "scaler = StandardScaler()\n",
    "X_train_scaled = scaler.fit_transform(X_train)\n",
    "X_test_scaled = scaler.transform(X_test)"
   ]
  },
  {
   "cell_type": "markdown",
   "id": "d79cdea6",
   "metadata": {},
   "source": [
    "## GridSearch on Logistic Regression"
   ]
  },
  {
   "cell_type": "code",
   "execution_count": 58,
   "id": "bad560bc",
   "metadata": {},
   "outputs": [
    {
     "name": "stdout",
     "output_type": "stream",
     "text": [
      "Best Hyperparameters: {'C': 0.1, 'solver': 'newton-cg'}\n",
      "Accuracy on Test Data: 0.5944158706833211\n"
     ]
    }
   ],
   "source": [
    "classifier = LogisticRegression()\n",
    "\n",
    "param_grid = {'C': [0.1, 1.0, 10.0], 'solver': ['newton-cg', 'lbfgs', 'liblinear', 'sag', 'saga']}\n",
    "\n",
    "grid_search = GridSearchCV(classifier, param_grid=param_grid, cv=5, n_jobs=-1)\n",
    "grid_search.fit(X_train_scaled, y_train)\n",
    "\n",
    "best_classifier = grid_search.best_estimator_\n",
    "y_pred = best_classifier.predict(X_test_scaled)\n",
    "accuracy = accuracy_score(y_test, y_pred)\n",
    "\n",
    "print(\"Best Hyperparameters:\", grid_search.best_params_)\n",
    "print(\"Accuracy on Test Data:\", accuracy)"
   ]
  },
  {
   "cell_type": "markdown",
   "id": "05097013",
   "metadata": {},
   "source": [
    "## GridSearch on Decision Tree Classifier"
   ]
  },
  {
   "cell_type": "code",
   "execution_count": 59,
   "id": "5677f3ac",
   "metadata": {},
   "outputs": [
    {
     "name": "stdout",
     "output_type": "stream",
     "text": [
      "Best Hyperparameters: {'max_depth': 5, 'min_samples_leaf': 4, 'min_samples_split': 5}\n",
      "Accuracy on Test Data: 0.5969875091844232\n"
     ]
    }
   ],
   "source": [
    "classifier = DecisionTreeClassifier()\n",
    "\n",
    "param_grid = {'max_depth': [None, 5, 10, 15, 20],\n",
    "              'min_samples_split': [2, 5, 10],\n",
    "              'min_samples_leaf': [1, 2, 4]}\n",
    "\n",
    "grid_search = GridSearchCV(classifier, param_grid=param_grid, cv=5, n_jobs=-1)\n",
    "grid_search.fit(X_train, y_train)\n",
    "\n",
    "best_classifier = grid_search.best_estimator_\n",
    "y_pred = best_classifier.predict(X_test)\n",
    "accuracy = accuracy_score(y_test, y_pred)\n",
    "\n",
    "print(\"Best Hyperparameters:\", grid_search.best_params_)\n",
    "print(\"Accuracy on Test Data:\", accuracy)"
   ]
  },
  {
   "cell_type": "markdown",
   "id": "77dc56da",
   "metadata": {},
   "source": [
    "## GridSearch on Random Forest Classifier"
   ]
  },
  {
   "cell_type": "code",
   "execution_count": 60,
   "id": "a9ae7bca",
   "metadata": {},
   "outputs": [
    {
     "name": "stdout",
     "output_type": "stream",
     "text": [
      "Best Hyperparameters: {'bootstrap': True, 'max_depth': 10, 'min_samples_leaf': 4, 'min_samples_split': 10, 'n_estimators': 200}\n",
      "Accuracy on Test Data: 0.5984570168993387\n"
     ]
    }
   ],
   "source": [
    "classifier = RandomForestClassifier()\n",
    "\n",
    "param_grid = {'n_estimators': [10, 50, 100, 200],\n",
    "              'max_depth': [None, 10, 20, 30],\n",
    "              'min_samples_split': [2, 5, 10],\n",
    "              'min_samples_leaf': [1, 2, 4],\n",
    "              'bootstrap': [True, False]}\n",
    "\n",
    "grid_search = GridSearchCV(classifier, param_grid=param_grid, cv=5, n_jobs=-1)\n",
    "grid_search.fit(X_train, y_train)\n",
    "\n",
    "best_classifier = grid_search.best_estimator_\n",
    "y_pred = best_classifier.predict(X_test)\n",
    "accuracy = accuracy_score(y_test, y_pred)\n",
    "\n",
    "print(\"Best Hyperparameters:\", grid_search.best_params_)\n",
    "print(\"Accuracy on Test Data:\", accuracy)"
   ]
  },
  {
   "cell_type": "markdown",
   "id": "cbcf779b",
   "metadata": {},
   "source": [
    "## GridSearch on SVC"
   ]
  },
  {
   "cell_type": "code",
   "execution_count": null,
   "id": "9061bc4c",
   "metadata": {},
   "outputs": [],
   "source": [
    "classifier = SVC()\n",
    "\n",
    "# Define the hyperparameter grid for the classifier\n",
    "param_grid = {'C': [0.1, 1.0, 10.0],\n",
    "              'kernel': ['linear', 'rbf', 'poly', 'sigmoid'],\n",
    "              'gamma': ['scale', 'auto']}\n",
    "\n",
    "# Perform grid search with cross-validation\n",
    "grid_search = GridSearchCV(classifier, param_grid=param_grid, cv=5, n_jobs=-1)\n",
    "grid_search.fit(X_train, y_train)\n",
    "\n",
    "# Evaluate the best model on the test data\n",
    "best_classifier = grid_search.best_estimator_\n",
    "y_pred = best_classifier.predict(X_test)\n",
    "accuracy = accuracy_score(y_test, y_pred)\n",
    "\n",
    "# Display the best hyperparameters and accuracy\n",
    "print(\"Best Hyperparameters:\", grid_search.best_params_)\n",
    "print(\"Accuracy on Test Data:\", accuracy)"
   ]
  },
  {
   "cell_type": "markdown",
   "id": "721a7f70",
   "metadata": {},
   "source": [
    "## GridSearch on K-Nearest Neighbors"
   ]
  },
  {
   "cell_type": "code",
   "execution_count": null,
   "id": "a4b0ef72",
   "metadata": {},
   "outputs": [],
   "source": [
    "classifier = KNeighborsClassifier()\n",
    "\n",
    "# Define the hyperparameter grid for the classifier\n",
    "param_grid = {'n_neighbors': [3, 5, 7, 9],\n",
    "              'weights': ['uniform', 'distance'],\n",
    "              'algorithm': ['auto', 'ball_tree', 'kd_tree', 'brute']}\n",
    "\n",
    "# Perform grid search with cross-validation\n",
    "grid_search = GridSearchCV(classifier, param_grid=param_grid, cv=5, n_jobs=-1)\n",
    "grid_search.fit(X_train, y_train)\n",
    "\n",
    "# Evaluate the best model on the test data\n",
    "best_classifier = grid_search.best_estimator_\n",
    "y_pred = best_classifier.predict(X_test)\n",
    "accuracy = accuracy_score(y_test, y_pred)\n",
    "\n",
    "# Display the best hyperparameters and accuracy\n",
    "print(\"Best Hyperparameters:\", grid_search.best_params_)\n",
    "print(\"Accuracy on Test Data:\", accuracy)"
   ]
  },
  {
   "cell_type": "markdown",
   "id": "b30e27d1",
   "metadata": {},
   "source": [
    "## GridSearch on Gaussian Naive Bayes"
   ]
  },
  {
   "cell_type": "code",
   "execution_count": null,
   "id": "452a320b",
   "metadata": {},
   "outputs": [],
   "source": [
    "classifier = GaussianNB()\n",
    "\n",
    "# There are no hyperparameters to tune for GaussianNB, so no need for a param_grid\n",
    "\n",
    "# Perform grid search with cross-validation (no hyperparameters to tune)\n",
    "grid_search = GridSearchCV(classifier, param_grid={}, cv=5, n_jobs=-1)\n",
    "grid_search.fit(X_train, y_train)\n",
    "\n",
    "# Evaluate the best model on the test data\n",
    "best_classifier = grid_search.best_estimator_\n",
    "y_pred = best_classifier.predict(X_test)\n",
    "accuracy = accuracy_score(y_test, y_pred)\n",
    "\n",
    "# Display the best model and accuracy\n",
    "print(\"Best Model:\", best_classifier)\n",
    "print(\"Accuracy on Test Data:\", accuracy)"
   ]
  },
  {
   "cell_type": "markdown",
   "id": "9b4a6243",
   "metadata": {},
   "source": [
    "## GridSearch on XGBClassifier"
   ]
  },
  {
   "cell_type": "code",
   "execution_count": null,
   "id": "3958c767",
   "metadata": {},
   "outputs": [],
   "source": [
    "param_grid = {'n_estimators': [50, 100, 200],\n",
    "              'max_depth': [3, 4, 5],\n",
    "              'learning_rate': [0.01, 0.1, 0.2],\n",
    "              'subsample': [0.8, 1.0],\n",
    "              'colsample_bytree': [0.8, 1.0],\n",
    "              'gamma': [0, 0.1, 0.2]}\n",
    "\n",
    "# Perform grid search with cross-validation\n",
    "grid_search = GridSearchCV(classifier, param_grid=param_grid, cv=5, n_jobs=-1)\n",
    "grid_search.fit(X_train, y_train)\n",
    "\n",
    "# Evaluate the best model on the test data\n",
    "best_classifier = grid_search.best_estimator_\n",
    "y_pred = best_classifier.predict(X_test)\n",
    "accuracy = accuracy_score(y_test, y_pred)\n",
    "\n",
    "# Display the best hyperparameters and accuracy\n",
    "print(\"Best Hyperparameters:\", grid_search.best_params_)\n",
    "print(\"Accuracy on Test Data:\", accuracy)"
   ]
  },
  {
   "cell_type": "markdown",
   "id": "12c8e571",
   "metadata": {},
   "source": [
    "## GridSearch on CatBoost Classifier"
   ]
  },
  {
   "cell_type": "code",
   "execution_count": null,
   "id": "1cc49f78",
   "metadata": {},
   "outputs": [],
   "source": [
    "classifier = CatBoostClassifier()\n",
    "\n",
    "# Define the hyperparameter grid for the classifier\n",
    "param_grid = {'iterations': [100, 200, 300],\n",
    "              'learning_rate': [0.01, 0.1, 0.2],\n",
    "              'depth': [3, 4, 5],\n",
    "              'l2_leaf_reg': [1, 3, 5]}\n",
    "\n",
    "# Perform grid search with cross-validation\n",
    "grid_search = GridSearchCV(classifier, param_grid=param_grid, cv=5, n_jobs=-1)\n",
    "grid_search.fit(X_train, y_train)\n",
    "\n",
    "# Evaluate the best model on the test data\n",
    "best_classifier = grid_search.best_estimator_\n",
    "y_pred = best_classifier.predict(X_test)\n",
    "accuracy = accuracy_score(y_test, y_pred)\n",
    "\n",
    "# Display the best hyperparameters and accuracy\n",
    "print(\"Best Hyperparameters:\", grid_search.best_params_)\n",
    "print(\"Accuracy on Test Data:\", accuracy)"
   ]
  },
  {
   "cell_type": "code",
   "execution_count": null,
   "id": "fef467eb",
   "metadata": {},
   "outputs": [],
   "source": [
    "# gridsearch on GRU classifier::\n",
    "\n",
    "\n",
    "import tensorflow as tf\n",
    "from tensorflow.keras.models import Sequential\n",
    "from tensorflow.keras.layers import Embedding, GRU, Dense\n",
    "from tensorflow.keras.preprocessing.sequence import pad_sequences\n",
    "\n",
    "# Step 1: Prepare your data (sequences and labels)\n",
    "# X_train, y_train: Training sequences and labels\n",
    "# X_test, y_test: Testing sequences and labels\n",
    "\n",
    "# Step 2: Tokenize and pad sequences (if necessary)\n",
    "max_seq_length = 100  # Adjust this based on your data\n",
    "X_train = pad_sequences(X_train, maxlen=max_seq_length, padding='post', truncating='post')\n",
    "X_test = pad_sequences(X_test, maxlen=max_seq_length, padding='post', truncating='post')\n",
    "\n",
    "# Step 3: Build the GRU-based model\n",
    "model = Sequential()\n",
    "model.add(Embedding(input_dim=vocab_size, output_dim=embedding_dim, input_length=max_seq_length))\n",
    "model.add(GRU(units=128, activation='relu', return_sequences=True))\n",
    "model.add(GRU(units=64, activation='relu'))\n",
    "model.add(Dense(units=num_classes, activation='softmax'))\n",
    "\n",
    "model.compile(optimizer='adam', loss='categorical_crossentropy', metrics=['accuracy'])\n",
    "\n",
    "model.fit(X_train, y_train, epochs=50, batch_size=32, validation_split=0.2)\n",
    "\n",
    "# Step 6: Evaluate the model\n",
    "y_pred = model.predict(X_test)\n",
    "y_pred_classes = np.argmax(y_pred, axis=1)\n",
    "accuracy = accuracy_score(y_test, y_pred_classes)\n",
    "print(\"Accuracy:\", accuracy)\n"
   ]
  },
  {
   "cell_type": "code",
   "execution_count": null,
   "id": "f0a58dcd",
   "metadata": {},
   "outputs": [],
   "source": []
  },
  {
   "cell_type": "code",
   "execution_count": null,
   "id": "d095c8a4",
   "metadata": {},
   "outputs": [],
   "source": []
  }
 ],
 "metadata": {
  "kernelspec": {
   "display_name": "Python 3 (ipykernel)",
   "language": "python",
   "name": "python3"
  },
  "language_info": {
   "codemirror_mode": {
    "name": "ipython",
    "version": 3
   },
   "file_extension": ".py",
   "mimetype": "text/x-python",
   "name": "python",
   "nbconvert_exporter": "python",
   "pygments_lexer": "ipython3",
   "version": "3.9.13"
  }
 },
 "nbformat": 4,
 "nbformat_minor": 5
}
